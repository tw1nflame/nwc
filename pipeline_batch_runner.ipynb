{
 "cells": [
  {
   "cell_type": "markdown",
   "id": "f8fa9e60",
   "metadata": {},
   "source": [
    "# Pipeline Batch Runner - BASE и BASE+ пайплайны\n",
    "\n",
    "Этот Notebook позволяет запускать BASE и BASE+ пайплайны для нескольких месяцев подряд с автоматическим обновлением файлов прогнозов.\n",
    "\n",
    "## Особенности:\n",
    "- Автоматическое обновление файлов прогнозов после каждого месяца\n",
    "- Запуск обоих пайплайнов (BASE и BASE+) для каждого месяца\n",
    "- Детальное логирование процесса\n",
    "- Автоматическое сохранение результатов"
   ]
  },
  {
   "cell_type": "code",
   "execution_count": null,
   "id": "6bfa856a",
   "metadata": {},
   "outputs": [],
   "source": [
    "# Импорты и настройки\n",
    "import pandas as pd\n",
    "import numpy as np\n",
    "import yaml\n",
    "from datetime import datetime, timedelta\n",
    "import shutil\n",
    "import os\n",
    "from pathlib import Path\n",
    "import warnings\n",
    "warnings.filterwarnings('ignore')\n",
    "\n",
    "# Импорт модулей пайплайнов\n",
    "from generate_synthetic_base_pipeline import process_article\n",
    "from generate_synthetic_baseplus_pipeline import process_article as process_article_baseplus\n",
    "\n",
    "print(\"Все модули успешно импортированы!\")\n",
    "print(f\"Время запуска: {datetime.now().strftime('%Y-%m-%d %H:%M:%S')}\")"
   ]
  },
  {
   "cell_type": "code",
   "execution_count": null,
   "id": "726039cb",
   "metadata": {},
   "outputs": [],
   "source": [
    "# Конфигурация пайплайнов\n",
    "config = {\n",
    "    'data_path': r'd:\\work\\nwc\\DUMMY DATA.xlsx',  # Путь к исходным данным\n",
    "    'base_predictions_path': r'd:\\work\\nwc\\results\\predict_BASE.xlsx',  # Путь к файлу прогнозов BASE\n",
    "    'baseplus_predictions_path': r'd:\\work\\nwc\\results\\synthetic_base_pipeline_BASE.xlsx',  # Путь к файлу прогнозов BASE+\n",
    "    'backup_dir': r'd:\\work\\nwc\\backups',  # Директория для бэкапов\n",
    "    'log_file': r'd:\\work\\nwc\\pipeline_batch_log.txt'\n",
    "}\n",
    "\n",
    "# Месяцы для обработки (в формате YYYY-MM)\n",
    "months_to_process = [\n",
    "    '2024-01',\n",
    "    '2024-02', \n",
    "    '2024-03',\n",
    "    '2024-04',\n",
    "    '2024-05',\n",
    "    '2024-06'\n",
    "]\n",
    "\n",
    "# Создание директории для бэкапов если не существует\n",
    "os.makedirs(config['backup_dir'], exist_ok=True)\n",
    "\n",
    "print(\"Конфигурация загружена:\")\n",
    "print(f\"- Исходные данные: {config['data_path']}\")\n",
    "print(f\"- BASE predictions: {config['base_predictions_path']}\")\n",
    "print(f\"- BASE+ predictions: {config['baseplus_predictions_path']}\")\n",
    "print(f\"- Месяцы для обработки: {len(months_to_process)} месяцев\")\n",
    "print(f\"- Директория бэкапов: {config['backup_dir']}\")\n",
    "print(\"- Список месяцев:\", months_to_process)"
   ]
  },
  {
   "cell_type": "code",
   "execution_count": null,
   "id": "eeddb276",
   "metadata": {},
   "outputs": [],
   "source": [
    "# Импорт утилит из backend\n",
    "import sys\n",
    "sys.path.append(r'd:\\work\\nwc\\backend\\app')\n",
    "\n",
    "from utils.config import load_config\n",
    "from utils.datahandler import load_and_transform_data\n",
    "from utils.pipelines import run_base_plus_pipeline, run_base_pipeline\n",
    "from utils.common import generate_monthly_period, setup_custom_logging\n",
    "from utils.db_usage import export_pipeline_tables_to_excel, SHEET_TO_TABLE, process_exchange_rate_file\n",
    "\n",
    "# Константы из tasks.py\n",
    "CONFIG_PATH = r'd:\\work\\nwc\\backend\\config_refined.yaml'\n",
    "TRAINING_FILES_DIR = r'd:\\work\\nwc\\backend\\app\\training_files'\n",
    "\n",
    "print(\"Утилиты backend успешно импортированы!\")\n",
    "print(f\"CONFIG_PATH: {CONFIG_PATH}\")\n",
    "print(f\"TRAINING_FILES_DIR: {TRAINING_FILES_DIR}\")"
   ]
  }
 ],
 "metadata": {
  "language_info": {
   "name": "python"
  }
 },
 "nbformat": 4,
 "nbformat_minor": 5
}

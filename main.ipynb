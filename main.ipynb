{
 "cells": [
  {
   "cell_type": "markdown",
   "id": "b688ff95",
   "metadata": {},
   "source": [
    "# Генерация синтетических данных для имитации результата base pipeline\n",
    "В этом ноутбуке создаются случайные данные за 10 месяцев, аналогичные формату результата функции `run_base_pipeline`."
   ]
  },
  {
   "cell_type": "code",
   "execution_count": null,
   "id": "73e298d3",
   "metadata": {},
   "outputs": [
    {
     "name": "stdout",
     "output_type": "stream",
     "text": [
      "Файл сохранён: results/synthetic_base_pipeline_BASE.xlsx (с \"Дата\" во всех листах)\n"
     ]
    }
   ],
   "source": [
    "import pandas as pd\n",
    "import numpy as np\n",
    "from datetime import datetime\n",
    "from dateutil.relativedelta import relativedelta\n",
    "import random\n",
    "import os\n",
    "\n",
    "# Для воспроизводимости\n",
    "np.random.seed(42)\n",
    "random.seed(42)\n",
    "\n",
    "# Диапазон дат: с 2024-10-31 по 2025-07-31 (10 месяцев, последний день месяца)\n",
    "N_MONTHS = 10\n",
    "START_DATE = datetime(2024, 10, 1)\n",
    "DATE_RANGE = [(START_DATE + relativedelta(months=i) + pd.offsets.MonthEnd(0)).date() for i in range(N_MONTHS)]\n",
    "\n",
    "ARTICLES = ['Статья_1']\n",
    "ITEM_ID = 'INDIVIDUAL'\n",
    "FACTOR = 'INDIVIDUAL'\n",
    "\n",
    "MODEL_COLS = [\n",
    "    'NaiveModel', 'SeasonalNaiveModel', 'AverageModel', 'SeasonalAverageModel', 'ZeroModel',\n",
    "    'AutoARIMAModel', 'AutoETSModel', 'ThetaModel', 'CrostonModel', 'NPTSModel', 'DeepARModel',\n",
    "    'PatchTSTModel', 'TemporalFusionTransformerModel', 'TiDEModel', 'DirectTabularModel', 'RecursiveTabularModel',\n",
    "    'Chronos_base', 'Chronos_small', 'Chronos_small_finetuned',\n",
    "    'predict_svm9', 'predict_linreg9_no_bias', 'predict_RFR'\n",
    "    ]\n",
    "\n",
    "# Генерация базовых временных рядов\n",
    "rows = []\n",
    "for article in ARTICLES:\n",
    "    base = np.linspace(100, 200, N_MONTHS) + np.random.normal(0, 10, N_MONTHS)\n",
    "    for i, last_day in enumerate(DATE_RANGE):\n",
    "        row = {\n",
    "            'date': last_day,\n",
    "            'Fact': base[i],\n",
    "            'Статья': article,\n",
    "            'item_id': ITEM_ID,\n",
    "            'factor': FACTOR\n",
    "        }\n",
    "        rows.append(row)\n",
    "df = pd.DataFrame(rows)\n",
    "\n",
    "# Генерация предсказаний для всех моделей\n",
    "for col in MODEL_COLS:\n",
    "    if col == 'NaiveModel':\n",
    "        df[col] = df['Fact'] + np.random.normal(0, 8, N_MONTHS)\n",
    "    elif col == 'SeasonalNaiveModel':\n",
    "        df[col] = df['Fact'] + np.random.normal(0, 7, N_MONTHS)\n",
    "    elif col == 'AverageModel':\n",
    "        df[col] = df['Fact'] + np.random.normal(0, 6, N_MONTHS)\n",
    "    elif col == 'SeasonalAverageModel':\n",
    "        df[col] = df['Fact'] + np.random.normal(0, 6, N_MONTHS)\n",
    "    elif col == 'ZeroModel':\n",
    "        df[col] = np.zeros(N_MONTHS)\n",
    "    elif col == 'AutoARIMAModel':\n",
    "        df[col] = df['Fact'] * np.random.uniform(0.96, 1.04, N_MONTHS) + np.random.normal(0, 6, N_MONTHS)\n",
    "    elif col == 'AutoETSModel':\n",
    "        df[col] = df['Fact'] * np.random.uniform(0.97, 1.03, N_MONTHS) + np.random.normal(0, 5, N_MONTHS)\n",
    "    elif col == 'ThetaModel':\n",
    "        df[col] = df['Fact'] * np.random.uniform(0.95, 1.05, N_MONTHS) + np.random.normal(0, 7, N_MONTHS)\n",
    "    elif col == 'CrostonModel':\n",
    "        df[col] = df['Fact'] * np.random.uniform(0.94, 1.06, N_MONTHS) + np.random.normal(0, 7, N_MONTHS)\n",
    "    elif col == 'NPTSModel':\n",
    "        df[col] = df['Fact'] * np.random.uniform(0.93, 1.07, N_MONTHS) + np.random.normal(0, 8, N_MONTHS)\n",
    "    elif col == 'DeepARModel':\n",
    "        df[col] = df['Fact'] * np.random.uniform(0.96, 1.04, N_MONTHS) + np.random.normal(0, 5, N_MONTHS)\n",
    "    elif col == 'PatchTSTModel':\n",
    "        df[col] = df['Fact'] * np.random.uniform(0.97, 1.03, N_MONTHS) + np.random.normal(0, 4, N_MONTHS)\n",
    "    elif col == 'TemporalFusionTransformerModel':\n",
    "        df[col] = df['Fact'] * np.random.uniform(0.95, 1.05, N_MONTHS) + np.random.normal(0, 6, N_MONTHS)\n",
    "    elif col == 'TiDEModel':\n",
    "        df[col] = df['Fact'] * np.random.uniform(0.96, 1.04, N_MONTHS) + np.random.normal(0, 5, N_MONTHS)\n",
    "    elif col == 'DirectTabularModel':\n",
    "        df[col] = df['Fact'] * np.random.uniform(0.97, 1.03, N_MONTHS) + np.random.normal(0, 4, N_MONTHS)\n",
    "    elif col == 'RecursiveTabularModel':\n",
    "        df[col] = df['Fact'] * np.random.uniform(0.95, 1.05, N_MONTHS) + np.random.normal(0, 6, N_MONTHS)\n",
    "    elif col == 'Chronos_base':\n",
    "        df[col] = df['Fact'] * np.random.uniform(0.98, 1.02, N_MONTHS) + np.random.normal(0, 4, N_MONTHS)\n",
    "    elif col == 'Chronos_small':\n",
    "        df[col] = df['Fact'] * np.random.uniform(0.97, 1.03, N_MONTHS) + np.random.normal(0, 4, N_MONTHS)\n",
    "    elif col == 'Chronos_small_finetuned':\n",
    "        df[col] = df['Fact'] * np.random.uniform(0.96, 1.04, N_MONTHS) + np.random.normal(0, 4, N_MONTHS)\n",
    "    elif col == 'predict_svm9':\n",
    "        df[col] = df['Fact'] * np.random.uniform(0.96, 1.04, N_MONTHS) + np.random.normal(0, 5, N_MONTHS)\n",
    "    elif col == 'predict_linreg9_no_bias':\n",
    "        df[col] = df['Fact'] * np.random.uniform(0.97, 1.03, N_MONTHS) + np.random.normal(0, 4, N_MONTHS)\n",
    "    elif col == 'predict_RFR':\n",
    "        df[col] = df['Fact'] * np.random.uniform(0.95, 1.05, N_MONTHS) + np.random.normal(0, 6, N_MONTHS)\n",
    "\n",
    "# Для каждой модели считаем разницу и отклонение\n",
    "for col in MODEL_COLS:\n",
    "    df[f'{col}_разница'] = df[col] - df['Fact']\n",
    "    df[f'{col}_отклонение_%'] = 100 * (df[col] - df['Fact']) / df['Fact']\n",
    "\n",
    "df = df.sort_values('date').reset_index(drop=True)\n",
    "\n",
    "# Генерация коэффициентов и информации об ансамблях\n",
    "coeffs_with_intercept = pd.DataFrame({\n",
    "    'date': [DATE_RANGE[-1]],\n",
    "    'Статья': [ARTICLES[0]],\n",
    "    'predict_naive': [np.random.uniform(0.2, 0.4)],\n",
    "    'predict_TS_ML': [np.random.uniform(0.3, 0.5)],\n",
    "    'intercept': [np.random.uniform(10, 20)]\n",
    "})\n",
    "coeffs_no_intercept = pd.DataFrame({\n",
    "    'date': [DATE_RANGE[-1]],\n",
    "    'Статья': [ARTICLES[0]],\n",
    "    'predict_naive': [np.random.uniform(0.3, 0.6)],\n",
    "    'predict_TS_ML': [np.random.uniform(0.3, 0.6)]\n",
    "})\n",
    "ensemble_info = pd.DataFrame({\n",
    "    'date': [DATE_RANGE[-1]],\n",
    "    'Статья': [ARTICLES[0]],\n",
    "    'model': ['Ensemble_TS_ML'],\n",
    "    'weight': [1.0],\n",
    "    'metric': ['MAE'],\n",
    "    'score': [np.random.uniform(5, 15)]\n",
    "})\n",
    "\n",
    "# Формирование файла для BASE pipeline\n",
    "base_cols = ['date', 'Fact'] + MODEL_COLS + ['Статья', 'item_id', 'factor']\n",
    "df_base = df[base_cols].copy()\n",
    "df_base = df_base.rename(columns={'date': 'Дата'})\n",
    "base_cols = ['Дата', 'Fact'] + MODEL_COLS + ['Статья', 'item_id', 'factor']\n",
    "df_base = df_base[base_cols]\n",
    "\n",
    "# Переименование 'date' в 'Дата' во всех листах\n",
    "coeffs_with_intercept = coeffs_with_intercept.rename(columns={'date': 'Дата'})\n",
    "coeffs_no_intercept = coeffs_no_intercept.rename(columns={'date': 'Дата'})\n",
    "ensemble_info = ensemble_info.rename(columns={'date': 'Дата'})\n",
    "\n",
    "# Сохранение результатов\n",
    "os.makedirs('results', exist_ok=True)\n",
    "with pd.ExcelWriter('results/synthetic_base_pipeline_BASE.xlsx') as writer:\n",
    "    df_base.to_excel(writer, sheet_name='data', index=False)\n",
    "    coeffs_with_intercept.to_excel(writer, sheet_name='coeffs_with_intercept', index=False)\n",
    "    coeffs_no_intercept.to_excel(writer, sheet_name='coeffs_no_intercept', index=False)\n",
    "    ensemble_info.to_excel(writer, sheet_name='TimeSeries_ensemble_models_info', index=False)\n",
    "print('Файл сохранён: results/synthetic_base_pipeline_BASE.xlsx (с \"Дата\" во всех листах)')"
   ]
  },
  {
   "cell_type": "code",
   "execution_count": 2,
   "id": "f8f2f5eb",
   "metadata": {},
   "outputs": [],
   "source": [
    "# Установка random seed для воспроизводимости\n",
    "np.random.seed(42)\n",
    "random.seed(42)"
   ]
  },
  {
   "cell_type": "code",
   "execution_count": 3,
   "id": "dafb3355",
   "metadata": {},
   "outputs": [],
   "source": [
    "# Параметры генерации данных\n",
    "N_MONTHS = 10\n",
    "END_DATE = datetime.today().replace(day=1)\n",
    "DATE_RANGE = [END_DATE - relativedelta(months=i) for i in range(N_MONTHS-1, -1, -1)]\n",
    "\n",
    "ARTICLES = ['Статья_1']  # Можно добавить больше статей\n",
    "FACTOR = 'FACTOR_1'\n",
    "\n",
    "MODEL_COLS = [\n",
    "    'predict_naive',\n",
    "    'predict_TS_ML',\n",
    "    'predict_autoARIMA',\n",
    "    'predict_TFT',\n",
    "    'predict_PatchTST',\n",
    "    'predict_Chronos_base',\n",
    "    'predict_svm9',\n",
    "    'predict_linreg9_no_bias',\n",
    "    'predict_RFR'\n",
    "]"
   ]
  },
  {
   "cell_type": "code",
   "execution_count": 4,
   "id": "31525402",
   "metadata": {},
   "outputs": [
    {
     "name": "stdout",
     "output_type": "stream",
     "text": [
      "Диапазон дат: ['2024-07-01', '2024-08-01', '2024-09-01', '2024-10-01', '2024-11-01', '2024-12-01', '2025-01-01', '2025-02-01', '2025-03-01', '2025-04-01', '2025-05-01', '2025-06-01']\n"
     ]
    }
   ],
   "source": [
    "# --- Явно задаём диапазон дат для покрытия нужных месяцев (например, с июля 2024 по июнь 2025) ---\n",
    "N_MONTHS = 12\n",
    "START_DATE = datetime(2024, 7, 1)\n",
    "DATE_RANGE = [START_DATE + relativedelta(months=i) for i in range(N_MONTHS)]\n",
    "print('Диапазон дат:', [d.strftime('%Y-%m-%d') for d in DATE_RANGE])"
   ]
  },
  {
   "cell_type": "code",
   "execution_count": 5,
   "id": "645bfbb8",
   "metadata": {},
   "outputs": [
    {
     "name": "stdout",
     "output_type": "stream",
     "text": [
      "Диапазон дат: ['2024-02-01', '2024-03-01', '2024-04-01', '2024-05-01', '2024-06-01', '2024-07-01', '2024-08-01', '2024-09-01', '2024-10-01', '2024-11-01', '2024-12-01', '2025-01-01', '2025-02-01', '2025-03-01', '2025-04-01', '2025-05-01', '2025-06-01', '2025-07-01', '2025-08-01', '2025-09-01', '2025-10-01', '2025-11-01', '2025-12-01', '2026-01-01']\n"
     ]
    }
   ],
   "source": [
    "# --- Увеличиваем диапазон дат до 24 месяцев с февраля 2024 ---\n",
    "N_MONTHS = 24\n",
    "START_DATE = datetime(2024, 2, 1)\n",
    "DATE_RANGE = [START_DATE + relativedelta(months=i) for i in range(N_MONTHS)]\n",
    "print('Диапазон дат:', [d.strftime('%Y-%m-%d') for d in DATE_RANGE])"
   ]
  },
  {
   "cell_type": "code",
   "execution_count": 6,
   "id": "75c4cfab",
   "metadata": {},
   "outputs": [],
   "source": [
    "# Генерация базовых временных рядов\n",
    "rows = []\n",
    "for article in ARTICLES:\n",
    "    base = np.linspace(100, 200, N_MONTHS) + np.random.normal(0, 10, N_MONTHS)\n",
    "    for i, date in enumerate(DATE_RANGE):\n",
    "        row = {\n",
    "            'date': date,\n",
    "            'Fact': base[i],\n",
    "            'Статья': article\n",
    "        }\n",
    "        rows.append(row)\n",
    "df = pd.DataFrame(rows)"
   ]
  },
  {
   "cell_type": "code",
   "execution_count": 7,
   "id": "1d2dbfbb",
   "metadata": {},
   "outputs": [
    {
     "name": "stdout",
     "output_type": "stream",
     "text": [
      "Первые даты после преобразования: 0   2024-02-29\n",
      "1   2024-03-31\n",
      "2   2024-04-30\n",
      "3   2024-05-31\n",
      "4   2024-06-30\n",
      "Name: date, dtype: datetime64[ns]\n"
     ]
    }
   ],
   "source": [
    "# --- Приводим столбец 'date' к последнему дню месяца для совместимости с pipeline ---\n",
    "df['date'] = pd.to_datetime(df['date']) + pd.offsets.MonthEnd(0)\n",
    "print('Первые даты после преобразования:', df['date'].head())"
   ]
  },
  {
   "cell_type": "code",
   "execution_count": 8,
   "id": "97979247",
   "metadata": {},
   "outputs": [],
   "source": [
    "# Генерация предсказаний для отдельных моделей\n",
    "for col in MODEL_COLS:\n",
    "    if col == 'predict_naive':\n",
    "        df[col] = df['Fact'] + np.random.normal(0, 8, N_MONTHS)\n",
    "    elif col == 'predict_TS_ML':\n",
    "        df[col] = df['Fact'] * np.random.uniform(0.97, 1.03, N_MONTHS) + np.random.normal(0, 5, N_MONTHS)\n",
    "    elif col == 'predict_autoARIMA':\n",
    "        df[col] = df['Fact'] * np.random.uniform(0.96, 1.04, N_MONTHS) + np.random.normal(0, 6, N_MONTHS)\n",
    "    elif col == 'predict_TFT':\n",
    "        df[col] = df['Fact'] * np.random.uniform(0.95, 1.05, N_MONTHS) + np.random.normal(0, 7, N_MONTHS)\n",
    "    elif col == 'predict_PatchTST':\n",
    "        df[col] = df['Fact'] * np.random.uniform(0.94, 1.06, N_MONTHS) + np.random.normal(0, 7, N_MONTHS)\n",
    "    elif col == 'predict_Chronos_base':\n",
    "        df[col] = df['Fact'] * np.random.uniform(0.93, 1.07, N_MONTHS) + np.random.normal(0, 8, N_MONTHS)\n",
    "    elif col == 'predict_svm9':\n",
    "        df[col] = df['Fact'] * np.random.uniform(0.96, 1.04, N_MONTHS) + np.random.normal(0, 5, N_MONTHS)\n",
    "    elif col == 'predict_linreg9_no_bias':\n",
    "        df[col] = df['Fact'] * np.random.uniform(0.97, 1.03, N_MONTHS) + np.random.normal(0, 4, N_MONTHS)\n",
    "    elif col == 'predict_RFR':\n",
    "        df[col] = df['Fact'] * np.random.uniform(0.95, 1.05, N_MONTHS) + np.random.normal(0, 6, N_MONTHS)"
   ]
  },
  {
   "cell_type": "code",
   "execution_count": 9,
   "id": "fe5f6728",
   "metadata": {},
   "outputs": [],
   "source": [
    "# Генерация коэффициентов для линейных моделей и информации об ансамблях\n",
    "coeffs_with_intercept = pd.DataFrame({\n",
    "    'date': [DATE_RANGE[-1]],\n",
    "    'Статья': [ARTICLES[0]],\n",
    "    'predict_naive': [np.random.uniform(0.2, 0.4)],\n",
    "    'predict_TS_ML': [np.random.uniform(0.3, 0.5)],\n",
    "    'intercept': [np.random.uniform(10, 20)]\n",
    "})\n",
    "\n",
    "coeffs_no_intercept = pd.DataFrame({\n",
    "    'date': [DATE_RANGE[-1]],\n",
    "    'Статья': [ARTICLES[0]],\n",
    "    'predict_naive': [np.random.uniform(0.3, 0.6)],\n",
    "    'predict_TS_ML': [np.random.uniform(0.3, 0.6)]\n",
    "})\n",
    "\n",
    "ensemble_info = pd.DataFrame({\n",
    "    'date': [DATE_RANGE[-1]],\n",
    "    'Статья': [ARTICLES[0]],\n",
    "    'model': ['Ensemble_TS_ML'],\n",
    "    'weight': [1.0],\n",
    "    'metric': ['MAE'],\n",
    "    'score': [np.random.uniform(5, 15)]\n",
    "})"
   ]
  },
  {
   "cell_type": "code",
   "execution_count": 10,
   "id": "3db35c21",
   "metadata": {},
   "outputs": [],
   "source": [
    "# Расчет ошибок (разница и отклонение в процентах)\n",
    "for col in MODEL_COLS:\n",
    "    df[f'{col}_разница'] = df[col] - df['Fact']\n",
    "    df[f'{col}_отклонение_%'] = 100 * (df[col] - df['Fact']) / df['Fact']\n",
    "\n",
    "df = df.sort_values('date').reset_index(drop=True)\n",
    "df['date'] = df['date'].dt.date  # Для совместимости с Excel"
   ]
  },
  {
   "cell_type": "code",
   "execution_count": 11,
   "id": "7f38d911",
   "metadata": {},
   "outputs": [
    {
     "name": "stdout",
     "output_type": "stream",
     "text": [
      "Файл сохранён: results/synthetic_base_pipeline.xlsx\n"
     ]
    }
   ],
   "source": [
    "# Сохранение результатов в Excel-файл\n",
    "os.makedirs('results', exist_ok=True)\n",
    "with pd.ExcelWriter('results/synthetic_base_pipeline.xlsx') as writer:\n",
    "    df.to_excel(writer, sheet_name='data', index=False)\n",
    "    coeffs_with_intercept.to_excel(writer, sheet_name='coeffs_with_intercept', index=False)\n",
    "    coeffs_no_intercept.to_excel(writer, sheet_name='coeffs_no_intercept', index=False)\n",
    "    ensemble_info.to_excel(writer, sheet_name='TimeSeries_ensemble_models_info', index=False)\n",
    "print('Файл сохранён: results/synthetic_base_pipeline.xlsx')"
   ]
  },
  {
   "cell_type": "code",
   "execution_count": 12,
   "id": "d70b0a43",
   "metadata": {},
   "outputs": [
    {
     "name": "stdout",
     "output_type": "stream",
     "text": [
      "Файл сохранён: results/synthetic_base_pipeline.xlsx\n",
      "\n"
     ]
    }
   ],
   "source": [
    "import pandas as pd\n",
    "import numpy as np\n",
    "from datetime import datetime\n",
    "from dateutil.relativedelta import relativedelta\n",
    "import random\n",
    "import os\n",
    "\n",
    "# Для воспроизводимости\n",
    "np.random.seed(42)\n",
    "random.seed(42)\n",
    "\n",
    "# Параметры генерации\n",
    "N_MONTHS = 10\n",
    "END_DATE = datetime.today().replace(day=1)\n",
    "DATE_RANGE = [END_DATE - relativedelta(months=i) for i in range(N_MONTHS-1, -1, -1)]\n",
    "\n",
    "ARTICLES = ['Статья_1']\n",
    "ITEM_ID = 'INDIVIDUAL'\n",
    "FACTOR = 'INDIVIDUAL'\n",
    "\n",
    "# Все модели из config_refined.yaml\n",
    "MODEL_COLS = [\n",
    "    'NaiveModel', 'SeasonalNaiveModel', 'AverageModel', 'SeasonalAverageModel', 'ZeroModel',\n",
    "    'AutoARIMAModel', 'AutoETSModel', 'ThetaModel', 'CrostonModel', 'NPTSModel', 'DeepARModel',\n",
    "    'PatchTSTModel', 'TemporalFusionTransformerModel', 'TiDEModel', 'DirectTabularModel', 'RecursiveTabularModel',\n",
    "    'Chronos_base', 'Chronos_small', 'Chronos_small_finetuned',\n",
    "    # stacking/ensemble\n",
    "    'predict_svm9', 'predict_linreg9_no_bias', 'predict_RFR'\n",
    "]\n",
    "\n",
    "# Генерация базовых временных рядов\n",
    "rows = []\n",
    "for article in ARTICLES:\n",
    "    base = np.linspace(100, 200, N_MONTHS) + np.random.normal(0, 10, N_MONTHS)\n",
    "    for i, date in enumerate(DATE_RANGE):\n",
    "        row = {\n",
    "            'date': date,\n",
    "            'Fact': base[i],\n",
    "            'Статья': article,\n",
    "            'item_id': ITEM_ID,\n",
    "            'factor': FACTOR\n",
    "        }\n",
    "        rows.append(row)\n",
    "df = pd.DataFrame(rows)\n",
    "\n",
    "# Генерация предсказаний для всех моделей\n",
    "for col in MODEL_COLS:\n",
    "    if col == 'NaiveModel':\n",
    "        df[col] = df['Fact'] + np.random.normal(0, 8, N_MONTHS)\n",
    "    elif col == 'SeasonalNaiveModel':\n",
    "        df[col] = df['Fact'] + np.random.normal(0, 7, N_MONTHS)\n",
    "    elif col == 'AverageModel':\n",
    "        df[col] = df['Fact'] + np.random.normal(0, 6, N_MONTHS)\n",
    "    elif col == 'SeasonalAverageModel':\n",
    "        df[col] = df['Fact'] + np.random.normal(0, 6, N_MONTHS)\n",
    "    elif col == 'ZeroModel':\n",
    "        df[col] = np.zeros(N_MONTHS)\n",
    "    elif col == 'AutoARIMAModel':\n",
    "        df[col] = df['Fact'] * np.random.uniform(0.96, 1.04, N_MONTHS) + np.random.normal(0, 6, N_MONTHS)\n",
    "    elif col == 'AutoETSModel':\n",
    "        df[col] = df['Fact'] * np.random.uniform(0.97, 1.03, N_MONTHS) + np.random.normal(0, 5, N_MONTHS)\n",
    "    elif col == 'ThetaModel':\n",
    "        df[col] = df['Fact'] * np.random.uniform(0.95, 1.05, N_MONTHS) + np.random.normal(0, 7, N_MONTHS)\n",
    "    elif col == 'CrostonModel':\n",
    "        df[col] = df['Fact'] * np.random.uniform(0.94, 1.06, N_MONTHS) + np.random.normal(0, 7, N_MONTHS)\n",
    "    elif col == 'NPTSModel':\n",
    "        df[col] = df['Fact'] * np.random.uniform(0.93, 1.07, N_MONTHS) + np.random.normal(0, 8, N_MONTHS)\n",
    "    elif col == 'DeepARModel':\n",
    "        df[col] = df['Fact'] * np.random.uniform(0.96, 1.04, N_MONTHS) + np.random.normal(0, 5, N_MONTHS)\n",
    "    elif col == 'PatchTSTModel':\n",
    "        df[col] = df['Fact'] * np.random.uniform(0.97, 1.03, N_MONTHS) + np.random.normal(0, 4, N_MONTHS)\n",
    "    elif col == 'TemporalFusionTransformerModel':\n",
    "        df[col] = df['Fact'] * np.random.uniform(0.95, 1.05, N_MONTHS) + np.random.normal(0, 6, N_MONTHS)\n",
    "    elif col == 'TiDEModel':\n",
    "        df[col] = df['Fact'] * np.random.uniform(0.96, 1.04, N_MONTHS) + np.random.normal(0, 5, N_MONTHS)\n",
    "    elif col == 'DirectTabularModel':\n",
    "        df[col] = df['Fact'] * np.random.uniform(0.97, 1.03, N_MONTHS) + np.random.normal(0, 4, N_MONTHS)\n",
    "    elif col == 'RecursiveTabularModel':\n",
    "        df[col] = df['Fact'] * np.random.uniform(0.95, 1.05, N_MONTHS) + np.random.normal(0, 6, N_MONTHS)\n",
    "    elif col == 'Chronos_base':\n",
    "        df[col] = df['Fact'] * np.random.uniform(0.98, 1.02, N_MONTHS) + np.random.normal(0, 4, N_MONTHS)\n",
    "    elif col == 'Chronos_small':\n",
    "        df[col] = df['Fact'] * np.random.uniform(0.97, 1.03, N_MONTHS) + np.random.normal(0, 4, N_MONTHS)\n",
    "    elif col == 'Chronos_small_finetuned':\n",
    "        df[col] = df['Fact'] * np.random.uniform(0.96, 1.04, N_MONTHS) + np.random.normal(0, 4, N_MONTHS)\n",
    "    elif col == 'predict_svm9':\n",
    "        df[col] = df['Fact'] * np.random.uniform(0.96, 1.04, N_MONTHS) + np.random.normal(0, 5, N_MONTHS)\n",
    "    elif col == 'predict_linreg9_no_bias':\n",
    "        df[col] = df['Fact'] * np.random.uniform(0.97, 1.03, N_MONTHS) + np.random.normal(0, 4, N_MONTHS)\n",
    "    elif col == 'predict_RFR':\n",
    "        df[col] = df['Fact'] * np.random.uniform(0.95, 1.05, N_MONTHS) + np.random.normal(0, 6, N_MONTHS)\n",
    "\n",
    "# Для каждой модели считаем разницу и отклонение\n",
    "for col in MODEL_COLS:\n",
    "    df[f'{col}_разница'] = df[col] - df['Fact']\n",
    "    df[f'{col}_отклонение_%'] = 100 * (df[col] - df['Fact']) / df['Fact']\n",
    "\n",
    "df = df.sort_values('date').reset_index(drop=True)\n",
    "df['date'] = df['date'].dt.date\n",
    "\n",
    "# Генерация коэффициентов для линейных моделей и информации об ансамблях\n",
    "coeffs_with_intercept = pd.DataFrame({\n",
    "    'date': [DATE_RANGE[-1]],\n",
    "    'Статья': [ARTICLES[0]],\n",
    "    'predict_naive': [np.random.uniform(0.2, 0.4)],\n",
    "    'predict_TS_ML': [np.random.uniform(0.3, 0.5)],\n",
    "    'intercept': [np.random.uniform(10, 20)]\n",
    "})\n",
    "\n",
    "coeffs_no_intercept = pd.DataFrame({\n",
    "    'date': [DATE_RANGE[-1]],\n",
    "    'Статья': [ARTICLES[0]],\n",
    "    'predict_naive': [np.random.uniform(0.3, 0.6)],\n",
    "    'predict_TS_ML': [np.random.uniform(0.3, 0.6)]\n",
    "})\n",
    "\n",
    "ensemble_info = pd.DataFrame({\n",
    "    'date': [DATE_RANGE[-1]],\n",
    "    'Статья': [ARTICLES[0]],\n",
    "    'model': ['Ensemble_TS_ML'],\n",
    "    'weight': [1.0],\n",
    "    'metric': ['MAE'],\n",
    "    'score': [np.random.uniform(5, 15)]\n",
    "})\n",
    "\n",
    "# Сохранение результатов в Excel-файл\n",
    "os.makedirs('results', exist_ok=True)\n",
    "with pd.ExcelWriter('results/synthetic_base_pipeline.xlsx') as writer:\n",
    "    df.to_excel(writer, sheet_name='data', index=False)\n",
    "    coeffs_with_intercept.to_excel(writer, sheet_name='coeffs_with_intercept', index=False)\n",
    "    coeffs_no_intercept.to_excel(writer, sheet_name='coeffs_no_intercept', index=False)\n",
    "    ensemble_info.to_excel(writer, sheet_name='TimeSeries_ensemble_models_info', index=False)\n",
    "print('Файл сохранён: results/synthetic_base_pipeline.xlsx')"
   ]
  },
  {
   "cell_type": "code",
   "execution_count": 13,
   "id": "e0aa0c27",
   "metadata": {},
   "outputs": [
    {
     "name": "stdout",
     "output_type": "stream",
     "text": [
      "Файл сохранён: results/synthetic_base_pipeline_BASE.xlsx\n",
      "\n"
     ]
    }
   ],
   "source": [
    "# --- Формирование файла для BASE pipeline ---\n",
    "# Оставляем только нужные столбцы для листа data\n",
    "base_cols = ['date', 'Fact'] + MODEL_COLS + ['Статья', 'item_id', 'factor']\n",
    "df_base = df[base_cols].copy()\n",
    "\n",
    "# Переписываем файл с правильной структурой\n",
    "with pd.ExcelWriter('results/synthetic_base_pipeline_BASE.xlsx') as writer:\n",
    "    df_base.to_excel(writer, sheet_name='data', index=False)\n",
    "    coeffs_with_intercept.to_excel(writer, sheet_name='coeffs_with_intercept', index=False)\n",
    "    coeffs_no_intercept.to_excel(writer, sheet_name='coeffs_no_intercept', index=False)\n",
    "    ensemble_info.to_excel(writer, sheet_name='TimeSeries_ensemble_models_info', index=False)\n",
    "print('Файл сохранён: results/synthetic_base_pipeline_BASE.xlsx')"
   ]
  },
  {
   "cell_type": "code",
   "execution_count": 14,
   "id": "059b682e",
   "metadata": {},
   "outputs": [
    {
     "name": "stdout",
     "output_type": "stream",
     "text": [
      "Файл сохранён: results/synthetic_base_pipeline_BASE.xlsx (с \"Дата\")\n"
     ]
    }
   ],
   "source": [
    "# --- Исправление: переименование столбца 'date' в 'Дата' для совместимости с BASE pipeline ---\n",
    "df_base = df_base.rename(columns={'date': 'Дата'})\n",
    "base_cols = ['Дата', 'Fact'] + MODEL_COLS + ['Статья', 'item_id', 'factor']\n",
    "df_base = df_base[base_cols]\n",
    "\n",
    "with pd.ExcelWriter('results/synthetic_base_pipeline_BASE.xlsx') as writer:\n",
    "    df_base.to_excel(writer, sheet_name='data', index=False)\n",
    "    coeffs_with_intercept.to_excel(writer, sheet_name='coeffs_with_intercept', index=False)\n",
    "    coeffs_no_intercept.to_excel(writer, sheet_name='coeffs_no_intercept', index=False)\n",
    "    ensemble_info.to_excel(writer, sheet_name='TimeSeries_ensemble_models_info', index=False)\n",
    "print('Файл сохранён: results/synthetic_base_pipeline_BASE.xlsx (с \"Дата\")')"
   ]
  },
  {
   "cell_type": "code",
   "execution_count": 15,
   "id": "3ad9edc7",
   "metadata": {},
   "outputs": [
    {
     "name": "stdout",
     "output_type": "stream",
     "text": [
      "Файл сохранён: results/synthetic_base_pipeline_BASE.xlsx (с \"Дата\" во всех листах)\n"
     ]
    }
   ],
   "source": [
    "# --- Переименование 'date' в 'Дата' во всех листах для BASE pipeline ---\n",
    "coeffs_with_intercept = coeffs_with_intercept.rename(columns={'date': 'Дата'})\n",
    "coeffs_no_intercept = coeffs_no_intercept.rename(columns={'date': 'Дата'})\n",
    "\n",
    "# Перезапись файла с правильными названиями столбцов\n",
    "with pd.ExcelWriter('results/synthetic_base_pipeline_BASE.xlsx') as writer:\n",
    "    df_base.to_excel(writer, sheet_name='data', index=False)\n",
    "    coeffs_with_intercept.to_excel(writer, sheet_name='coeffs_with_intercept', index=False)\n",
    "    coeffs_no_intercept.to_excel(writer, sheet_name='coeffs_no_intercept', index=False)\n",
    "    ensemble_info.to_excel(writer, sheet_name='TimeSeries_ensemble_models_info', index=False)\n",
    "print('Файл сохранён: results/synthetic_base_pipeline_BASE.xlsx (с \"Дата\" во всех листах)')"
   ]
  },
  {
   "cell_type": "code",
   "execution_count": 16,
   "id": "849225a0",
   "metadata": {},
   "outputs": [
    {
     "name": "stdout",
     "output_type": "stream",
     "text": [
      "Файл сохранён: results/synthetic_base_pipeline_BASE.xlsx (с \"Дата\" во всех листах)\n"
     ]
    }
   ],
   "source": [
    "# --- Переименование 'date' в 'Дата' во всех листах для BASE pipeline (финальная версия) ---\n",
    "coeffs_with_intercept = coeffs_with_intercept.rename(columns={'date': 'Дата'})\n",
    "coeffs_no_intercept = coeffs_no_intercept.rename(columns={'date': 'Дата'})\n",
    "ensemble_info = ensemble_info.rename(columns={'date': 'Дата'})\n",
    "\n",
    "with pd.ExcelWriter('results/synthetic_base_pipeline_BASE.xlsx') as writer:\n",
    "    df_base.to_excel(writer, sheet_name='data', index=False)\n",
    "    coeffs_with_intercept.to_excel(writer, sheet_name='coeffs_with_intercept', index=False)\n",
    "    coeffs_no_intercept.to_excel(writer, sheet_name='coeffs_no_intercept', index=False)\n",
    "    ensemble_info.to_excel(writer, sheet_name='TimeSeries_ensemble_models_info', index=False)\n",
    "print('Файл сохранён: results/synthetic_base_pipeline_BASE.xlsx (с \"Дата\" во всех листах)')"
   ]
  }
 ],
 "metadata": {
  "kernelspec": {
   "display_name": "nwc",
   "language": "python",
   "name": "python3"
  },
  "language_info": {
   "codemirror_mode": {
    "name": "ipython",
    "version": 3
   },
   "file_extension": ".py",
   "mimetype": "text/x-python",
   "name": "python",
   "nbconvert_exporter": "python",
   "pygments_lexer": "ipython3",
   "version": "3.11.12"
  }
 },
 "nbformat": 4,
 "nbformat_minor": 5
}
